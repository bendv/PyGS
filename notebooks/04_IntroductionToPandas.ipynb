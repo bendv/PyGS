{
 "cells": [
  {
   "cell_type": "code",
   "execution_count": null,
   "id": "frozen-lewis",
   "metadata": {},
   "outputs": [],
   "source": [
    "### Basic data frame operations in preparation for GeoPandas module\n",
    "\n",
    "# Why Pandas? Pandas is a core data science library and lets us manipulate data frames (tables) (among many other things)\n",
    "# This is important, as we often need to handle *attribute tables* when working with spatial data\n",
    "# So a basic intro into handling tables with pandas will be necessary before we get into spatial data"
   ]
  }
 ],
 "metadata": {
  "kernelspec": {
   "display_name": "Python 3",
   "language": "python",
   "name": "python3"
  },
  "language_info": {
   "codemirror_mode": {
    "name": "ipython",
    "version": 3
   },
   "file_extension": ".py",
   "mimetype": "text/x-python",
   "name": "python",
   "nbconvert_exporter": "python",
   "pygments_lexer": "ipython3",
   "version": "3.9.1"
  }
 },
 "nbformat": 4,
 "nbformat_minor": 5
}
