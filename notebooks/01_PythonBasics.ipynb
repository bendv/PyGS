{
 "cells": [
  {
   "cell_type": "markdown",
   "id": "fewer-bradford",
   "metadata": {},
   "source": [
    "- print() and comments  \n",
    "- python data types  \n",
    "- string manipulation  \n",
    "- basic algebra  \n",
    "- lists and tuples  \n",
    "- dicts  \n",
    "- for loops  \n",
    "- if statements  \n",
    "- functions  \n"
   ]
  },
  {
   "cell_type": "code",
   "execution_count": null,
   "id": "frequent-imagination",
   "metadata": {},
   "outputs": [],
   "source": []
  },
  {
   "cell_type": "markdown",
   "id": "phantom-tunnel",
   "metadata": {},
   "source": [
    "### Dictionaries\n",
    "\n",
    "Imagine you had a raster with integer values between 1 and 5 and that each of these integers corresponds to one land cover class. E.g.,:\n",
    "\n",
    "1 - 'forest'  \n",
    "2 - 'wetland'  \n",
    "3 - 'urban'  \n",
    "4 - 'rangeland'  \n",
    "5 - 'cropland'  \n",
    "\n",
    "A dictionary could be used to associate each integer class to its corresponding string class:"
   ]
  },
  {
   "cell_type": "code",
   "execution_count": 8,
   "id": "atlantic-world",
   "metadata": {},
   "outputs": [
    {
     "name": "stdout",
     "output_type": "stream",
     "text": [
      "{'forest': 1, 'wetland': 2, 'urban': 3, 'rangeland': 4, 'cropland': 5}\n"
     ]
    }
   ],
   "source": [
    "classes = {\n",
    "    'forest': 1,\n",
    "    'wetland': 2,\n",
    "    'urban': 3,\n",
    "    'rangeland': 4,\n",
    "    'cropland': 5\n",
    "}\n",
    "\n",
    "print(classes)"
   ]
  },
  {
   "cell_type": "markdown",
   "id": "ordinary-bride",
   "metadata": {},
   "source": [
    "The `classes` dictionary can now tell us which integer class is associated with which actual class:"
   ]
  },
  {
   "cell_type": "code",
   "execution_count": 9,
   "id": "circular-baker",
   "metadata": {},
   "outputs": [
    {
     "name": "stdout",
     "output_type": "stream",
     "text": [
      "1\n"
     ]
    }
   ],
   "source": [
    "print(classes['forest'])"
   ]
  },
  {
   "cell_type": "code",
   "execution_count": 10,
   "id": "accompanied-excellence",
   "metadata": {},
   "outputs": [
    {
     "name": "stdout",
     "output_type": "stream",
     "text": [
      "4\n"
     ]
    }
   ],
   "source": [
    "print(classes['rangeland'])"
   ]
  },
  {
   "cell_type": "code",
   "execution_count": null,
   "id": "remarkable-organic",
   "metadata": {},
   "outputs": [],
   "source": []
  }
 ],
 "metadata": {
  "kernelspec": {
   "display_name": "Python 3",
   "language": "python",
   "name": "python3"
  },
  "language_info": {
   "codemirror_mode": {
    "name": "ipython",
    "version": 3
   },
   "file_extension": ".py",
   "mimetype": "text/x-python",
   "name": "python",
   "nbconvert_exporter": "python",
   "pygments_lexer": "ipython3",
   "version": "3.9.1"
  }
 },
 "nbformat": 4,
 "nbformat_minor": 5
}
