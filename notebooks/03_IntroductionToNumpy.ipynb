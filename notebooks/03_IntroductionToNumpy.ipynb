{
 "cells": [
  {
   "cell_type": "markdown",
   "id": "broad-excerpt",
   "metadata": {},
   "source": [
    "# Numerical Python (NumPy)\n",
    "\n",
    "`numpy` is an extremely powerful python library for manipulating arrays and matrices. It plays an important role in geospatial analysis because we can model image data as multidimensional arrays. For example, a single-band (e.g., panchromatic) image can be stored in memory as a 2-dimensional array, with dimensions corresponding to the number of rows and columns in the image. Similarly, a multispectral image (e.g., a Landsat image with 6 spectral bands) can be stored in memory as a 3-dimensional array, with the dimensions corresponding to the number of bands, the number of rows and the number of columns, respectively. In the latter case, you can think of the multispectral image as a \"stack\" of 2-D arrays, one array for each spectral band. Before we get into image analysis, we'll need to cover some basic concepts in `numpy`. \n",
    "\n",
    "In this tutorial, you'll gain experience with the following concepts:  \n",
    "* array dimensions  \n",
    "* array slicing  \n",
    "* array indexing  \n",
    "* array algebra  \n",
    "* data types in `numpy` \n",
    "\n",
    "Let's start by importing the `numpy` library. Since we'll be referring to it so often, it will be convenient to define a shorthand for the library - `np`. In a few cases, we'll plot the array data using the `matplotlib.pyplot` library. `matplotlib` is a *very* feature-rich plotting library, and the intention of this tutorial is not to get into details on plotting."
   ]
  },
  {
   "cell_type": "code",
   "execution_count": null,
   "id": "circular-relevance",
   "metadata": {},
   "outputs": [],
   "source": [
    "%matplotlib inline\n",
    "import numpy as np\n",
    "import matplotlib.pyplot as plt"
   ]
  },
  {
   "cell_type": "markdown",
   "id": "internal-qualification",
   "metadata": {},
   "source": [
    "### Creating, indexing and slicing arrays\n",
    "\n",
    "There are numerous ways to create `numpy` arrays. For instance, we can just pass a regular `list` object to the `np.array()` function:"
   ]
  },
  {
   "cell_type": "code",
   "execution_count": null,
   "id": "illegal-hammer",
   "metadata": {},
   "outputs": [],
   "source": [
    "a = np.array([0, 1, 2, 3, 4, 5, 6, 7, 8])\n",
    "print(a)"
   ]
  },
  {
   "cell_type": "markdown",
   "id": "private-meditation",
   "metadata": {},
   "source": [
    "Since this is just a sequence of number from 0 to 8, we can use the `np.arange()` function to get the same array:"
   ]
  },
  {
   "cell_type": "code",
   "execution_count": null,
   "id": "beginning-proof",
   "metadata": {},
   "outputs": [],
   "source": [
    "a = np.arange(9)\n",
    "print(a)"
   ]
  },
  {
   "cell_type": "markdown",
   "id": "shared-display",
   "metadata": {},
   "source": [
    "To get the dimensions of an array, use the `shape` attribute:"
   ]
  },
  {
   "cell_type": "code",
   "execution_count": null,
   "id": "powerful-invite",
   "metadata": {},
   "outputs": [],
   "source": [
    "print(a.shape)"
   ]
  },
  {
   "cell_type": "markdown",
   "id": "contrary-motivation",
   "metadata": {},
   "source": [
    "Notice that our array only has one dimension with a size of 9. As we start working with multi-dimensional arrays, we'll see that the shape is listed as a tuple (like a list) of numbers representing the size of each dimension.\n",
    "\n",
    "We can pull individual values out of the array by using *indexing*:"
   ]
  },
  {
   "cell_type": "code",
   "execution_count": null,
   "id": "inside-foster",
   "metadata": {},
   "outputs": [],
   "source": [
    "print(a[0])"
   ]
  },
  {
   "cell_type": "markdown",
   "id": "separate-heritage",
   "metadata": {},
   "source": [
    "Remember that in python, indexing always starts at 0. So, an index of 1 actually represents the 2nd position in the array:"
   ]
  },
  {
   "cell_type": "code",
   "execution_count": null,
   "id": "published-bowling",
   "metadata": {},
   "outputs": [],
   "source": [
    "print(a[1])"
   ]
  },
  {
   "cell_type": "markdown",
   "id": "decent-reception",
   "metadata": {},
   "source": [
    "It's possible to start indexing from the *end* of an array by using negative indices. For example, to retrieve the value in the last position in our array:"
   ]
  },
  {
   "cell_type": "code",
   "execution_count": null,
   "id": "going-asset",
   "metadata": {},
   "outputs": [],
   "source": [
    "print(a[-1])"
   ]
  },
  {
   "cell_type": "markdown",
   "id": "municipal-functionality",
   "metadata": {},
   "source": [
    "...and the value in the second-last position:"
   ]
  },
  {
   "cell_type": "code",
   "execution_count": null,
   "id": "directed-devon",
   "metadata": {},
   "outputs": [],
   "source": [
    "print(a[-2])"
   ]
  },
  {
   "cell_type": "markdown",
   "id": "meaning-tourist",
   "metadata": {},
   "source": [
    "Notice that when we index from the end of the array, we actually start at -1 (not 0, which would be ambiguous, as it already corresponds to the beginning of the array).\n",
    "\n",
    "We can also assign or replace values using indexing. For example, to assign a value of 1000 to the 6th position (remember: we starting counting at zero!):"
   ]
  },
  {
   "cell_type": "code",
   "execution_count": null,
   "id": "continental-samba",
   "metadata": {},
   "outputs": [],
   "source": [
    "a[5] = 1000\n",
    "print(a)"
   ]
  },
  {
   "cell_type": "markdown",
   "id": "accepted-return",
   "metadata": {},
   "source": [
    "We can make a 2-dimensional array by **reshaping** the array we're already working with. So, let's recreate the array of numbers from 0 to 8 (inclusively), but instead of a 1-dimension linear array, let's put those values into a 3X3 matrix:"
   ]
  },
  {
   "cell_type": "code",
   "execution_count": null,
   "id": "packed-essence",
   "metadata": {},
   "outputs": [],
   "source": [
    "b = np.arange(9).reshape( (3, 3) )\n",
    "print(b)"
   ]
  },
  {
   "cell_type": "code",
   "execution_count": null,
   "id": "associate-sponsorship",
   "metadata": {},
   "outputs": [],
   "source": [
    "print(b.shape)"
   ]
  },
  {
   "cell_type": "markdown",
   "id": "interpreted-stability",
   "metadata": {},
   "source": [
    "The `matplotlib.pyplot` library has a convenient function - `imshow()` - which can be used to visualize 2-D arrays as images. For obvious reasons, this will come in very handy in image analysis."
   ]
  },
  {
   "cell_type": "code",
   "execution_count": null,
   "id": "innovative-screening",
   "metadata": {},
   "outputs": [],
   "source": [
    "plt.imshow(b)\n",
    "plt.colorbar()"
   ]
  },
  {
   "cell_type": "markdown",
   "id": "driving-worship",
   "metadata": {},
   "source": [
    "It is easy to take the transpose of an array (compare this with the original `b` array):"
   ]
  },
  {
   "cell_type": "code",
   "execution_count": null,
   "id": "aggressive-sacrifice",
   "metadata": {},
   "outputs": [],
   "source": [
    "print(b.T)"
   ]
  },
  {
   "cell_type": "markdown",
   "id": "thermal-stopping",
   "metadata": {},
   "source": [
    "Now let's make a 3-D array with dimensions 3 X 3 X 3:"
   ]
  },
  {
   "cell_type": "code",
   "execution_count": null,
   "id": "amazing-enforcement",
   "metadata": {},
   "outputs": [],
   "source": [
    "a = np.arange(27).reshape((3, 3, 3))\n",
    "print(a)"
   ]
  },
  {
   "cell_type": "code",
   "execution_count": null,
   "id": "official-holiday",
   "metadata": {},
   "outputs": [],
   "source": [
    "print(a.shape)"
   ]
  },
  {
   "cell_type": "markdown",
   "id": "connected-contamination",
   "metadata": {},
   "source": [
    "With multi-dimensional arrays, we can access individual values by entering in indices for all dimensions. These can be thought of as coordinates in space:"
   ]
  },
  {
   "cell_type": "code",
   "execution_count": null,
   "id": "powered-cherry",
   "metadata": {},
   "outputs": [],
   "source": [
    "print(a[0,0,0])"
   ]
  },
  {
   "cell_type": "code",
   "execution_count": null,
   "id": "loaded-flooring",
   "metadata": {},
   "outputs": [],
   "source": [
    "print(a[1,2,2])"
   ]
  },
  {
   "cell_type": "code",
   "execution_count": null,
   "id": "silent-superior",
   "metadata": {},
   "outputs": [],
   "source": [
    "print(a[-1,-1,-1])"
   ]
  },
  {
   "cell_type": "markdown",
   "id": "lucky-sympathy",
   "metadata": {},
   "source": [
    "It is possible to take \"slices\" of arrays through indexing as well. Remember that you can think of a 3-D array as a \"stack\" of arrays (which will be helpful when we start working with stacks of images). To get the first array from our \"stack\", take a slice along axis 0 (the first dimension):"
   ]
  },
  {
   "cell_type": "code",
   "execution_count": null,
   "id": "micro-senate",
   "metadata": {},
   "outputs": [],
   "source": [
    "print(a[0,:,:])"
   ]
  },
  {
   "cell_type": "markdown",
   "id": "homeless-concern",
   "metadata": {},
   "source": [
    "The \":,:\" in the index tells numpy that you want all the values along those axes, but only the first value along axis 0. If you leave it out, numpy will assume that is what you mean. So, this will give you the same result:"
   ]
  },
  {
   "cell_type": "code",
   "execution_count": null,
   "id": "guided-simpson",
   "metadata": {},
   "outputs": [],
   "source": [
    "print(a[0])"
   ]
  },
  {
   "cell_type": "code",
   "execution_count": null,
   "id": "dramatic-march",
   "metadata": {},
   "outputs": [],
   "source": [
    "print(a[1])"
   ]
  },
  {
   "cell_type": "code",
   "execution_count": null,
   "id": "other-catering",
   "metadata": {},
   "outputs": [],
   "source": [
    "print(a[-1])"
   ]
  },
  {
   "cell_type": "markdown",
   "id": "banned-warrant",
   "metadata": {},
   "source": [
    "To get the first slice along the second axis:"
   ]
  },
  {
   "cell_type": "code",
   "execution_count": null,
   "id": "focused-revelation",
   "metadata": {},
   "outputs": [],
   "source": [
    "print(a[:,0,:])"
   ]
  },
  {
   "cell_type": "markdown",
   "id": "structured-campbell",
   "metadata": {},
   "source": [
    "...and the first slice along the third axis:"
   ]
  },
  {
   "cell_type": "code",
   "execution_count": null,
   "id": "rental-destination",
   "metadata": {},
   "outputs": [],
   "source": [
    "print(a[:,:,0])"
   ]
  },
  {
   "cell_type": "markdown",
   "id": "amateur-representative",
   "metadata": {},
   "source": [
    "It's possible to take *sequences* of indices as well. To demonstrate, let's create a bigger array. We'll start in one dimension:"
   ]
  },
  {
   "cell_type": "code",
   "execution_count": null,
   "id": "smooth-terror",
   "metadata": {},
   "outputs": [],
   "source": [
    "a = np.arange(100)\n",
    "print(a)"
   ]
  },
  {
   "cell_type": "code",
   "execution_count": null,
   "id": "reported-punishment",
   "metadata": {},
   "outputs": [],
   "source": [
    "print(a.shape)"
   ]
  },
  {
   "cell_type": "markdown",
   "id": "infrared-research",
   "metadata": {},
   "source": [
    "Now let's get the values at position 0, 10, 20, and 55:"
   ]
  },
  {
   "cell_type": "code",
   "execution_count": null,
   "id": "southeast-annual",
   "metadata": {},
   "outputs": [],
   "source": [
    "print( a[[0, 10, 20, 55]] )"
   ]
  },
  {
   "cell_type": "markdown",
   "id": "destroyed-authentication",
   "metadata": {},
   "source": [
    "Notice that we used double square brackets for this. That is because if you only use a single square bracket to list these numbers, `numpy` will think you are listing dimensions (as we did earlier). If you try that, you'll get an error, because this array only has one dimension.\n",
    "\n",
    "`numpy` has a handy shorthand for accessing regular sequences of values in an array. For example, to access every fifth value along the array:"
   ]
  },
  {
   "cell_type": "code",
   "execution_count": null,
   "id": "practical-success",
   "metadata": {},
   "outputs": [],
   "source": [
    "print(a[::5])"
   ]
  },
  {
   "cell_type": "markdown",
   "id": "tough-nitrogen",
   "metadata": {},
   "source": [
    "This works for multi-dimensional arrays as well. To demonstrate this, let's reshape our array into a 2-dimensional 10 X 10 array:"
   ]
  },
  {
   "cell_type": "code",
   "execution_count": null,
   "id": "digital-pennsylvania",
   "metadata": {},
   "outputs": [],
   "source": [
    "b = a.reshape((10,10))\n",
    "print(b)"
   ]
  },
  {
   "cell_type": "markdown",
   "id": "exact-perfume",
   "metadata": {},
   "source": [
    "Now, to take every second value along the first axis:"
   ]
  },
  {
   "cell_type": "code",
   "execution_count": null,
   "id": "administrative-presence",
   "metadata": {},
   "outputs": [],
   "source": [
    "print(b[::2,:])"
   ]
  },
  {
   "cell_type": "markdown",
   "id": "related-wireless",
   "metadata": {},
   "source": [
    "Again, if we leave out the second \":\", numpy will assume that that is what we mean:"
   ]
  },
  {
   "cell_type": "code",
   "execution_count": null,
   "id": "varying-sucking",
   "metadata": {},
   "outputs": [],
   "source": [
    "print(b[::2])"
   ]
  },
  {
   "cell_type": "markdown",
   "id": "encouraging-graduate",
   "metadata": {},
   "source": [
    "To access every second value along the 2nd axis:"
   ]
  },
  {
   "cell_type": "code",
   "execution_count": null,
   "id": "modified-cabin",
   "metadata": {},
   "outputs": [],
   "source": [
    "print(b[:,::2])"
   ]
  },
  {
   "cell_type": "markdown",
   "id": "collectible-vehicle",
   "metadata": {},
   "source": [
    "Run the following code:"
   ]
  },
  {
   "cell_type": "code",
   "execution_count": null,
   "id": "pregnant-crime",
   "metadata": {},
   "outputs": [],
   "source": [
    "print(b[::-2])"
   ]
  },
  {
   "cell_type": "markdown",
   "id": "younger-advance",
   "metadata": {},
   "source": [
    "**Q: Describe in words what the above line of code did to our array.**\n",
    "\n",
    "**Q: Imagine you have a time series with 100 images \"stacked\" as a 3-D numpy array called `x`, such that the time axis is axis 0, and axes 1 and 2 represent the image dimensions (# of rows, # of columns). What line of code would give you a new 3-D array called `y` using every 3rd image in the time series stack?**"
   ]
  },
  {
   "cell_type": "markdown",
   "id": "hundred-center",
   "metadata": {},
   "source": [
    "### Boolean arrays\n",
    "\n",
    "`numpy` can also handle **boolean logic**. Run the following code and compare the results with the original 10 X 10 array we created earlier:"
   ]
  },
  {
   "cell_type": "code",
   "execution_count": null,
   "id": "cognitive-waters",
   "metadata": {},
   "outputs": [],
   "source": [
    "print(b == 0)"
   ]
  },
  {
   "cell_type": "code",
   "execution_count": null,
   "id": "generous-copyright",
   "metadata": {},
   "outputs": [],
   "source": [
    "print(b > 25)"
   ]
  },
  {
   "cell_type": "code",
   "execution_count": null,
   "id": "enormous-amino",
   "metadata": {},
   "outputs": [],
   "source": [
    "print( (b > 10) & (b <= 75) )"
   ]
  },
  {
   "cell_type": "code",
   "execution_count": null,
   "id": "coupled-stocks",
   "metadata": {},
   "outputs": [],
   "source": [
    "print( (b > 10) & (b < 75) | (b == 99) )"
   ]
  },
  {
   "cell_type": "markdown",
   "id": "peaceful-bahamas",
   "metadata": {},
   "source": [
    "Boolean logic in `numpy` is a handy way to create **masks** in image analysis. For instance, perhaps we want to mask all pixels in a SAR image with a backscatter intensity lower than a certain threshold (e.g., to identify potential water pixels). That would entail a very simple boolean statement similar to the second we used above."
   ]
  },
  {
   "cell_type": "code",
   "execution_count": null,
   "id": "jewish-promotion",
   "metadata": {},
   "outputs": [],
   "source": [
    "mask = (b > 50)\n",
    "plt.imshow(mask)\n",
    "plt.colorbar()"
   ]
  },
  {
   "cell_type": "markdown",
   "id": "raising-brooks",
   "metadata": {},
   "source": [
    "Notice how pyplot displays the True's and False's as 1's and 0's, respectively. In other words, it has *recast* the boolean data as integer data. We'll talk about different `numpy` data types in a moment.\n",
    "\n",
    "We can use boolean logic to find out *where* certain conditions are true. For this, `numpy` has the `where()` function:"
   ]
  },
  {
   "cell_type": "code",
   "execution_count": null,
   "id": "available-pantyhose",
   "metadata": {},
   "outputs": [],
   "source": [
    "idx = np.where(b == 5)\n",
    "print(idx)"
   ]
  },
  {
   "cell_type": "markdown",
   "id": "complicated-indian",
   "metadata": {},
   "source": [
    "The result is not very intuitive. Essentially what `where()` has given us is the index where the condition is true, but for each axis individually. The first array is the position along the first axis, and the second array is the position along the second axis. This might make more sense if we look at an example that returns more than one result:"
   ]
  },
  {
   "cell_type": "code",
   "execution_count": null,
   "id": "entertaining-vehicle",
   "metadata": {},
   "outputs": [],
   "source": [
    "idx = np.where(b > 10)\n",
    "print(idx)"
   ]
  },
  {
   "cell_type": "markdown",
   "id": "living-dividend",
   "metadata": {},
   "source": [
    "Again, we are given two arrays, each corresponding to the position along each of the axes. So, we can say that the value at position `[1,1]` satisfies the condition `b > 10`; as does the value at `[1,2]`, `[1,3]`, etc. up to `[9,9]`.\n",
    "\n",
    "Admittedly, the result of `where()` is not very human-readable, but it is designed to make it easy to retrieve the values at those positions:"
   ]
  },
  {
   "cell_type": "code",
   "execution_count": null,
   "id": "compliant-sterling",
   "metadata": {},
   "outputs": [],
   "source": [
    "print(b[idx])"
   ]
  },
  {
   "cell_type": "markdown",
   "id": "otherwise-narrow",
   "metadata": {},
   "source": [
    "Notice that the resulting array has lost its original shape. We just get a list (actually, a 1-D array) of values \"pulled out\" of the array based on the index values we determined. This is because if we're only working with *some* of the values in the array, `numpy` has no way of knowing how to reshape these values, so it just gives us a 1-D array of values. This will be important to keep in mind in future tutorials, as we often use this type of conditional indexing to manipulate values (e.g., to apply a cloud mask to an optical image).\n",
    "\n",
    "Let's try a slightly more complicated example:"
   ]
  },
  {
   "cell_type": "code",
   "execution_count": null,
   "id": "accepting-fighter",
   "metadata": {
    "scrolled": true
   },
   "outputs": [],
   "source": [
    "idx = np.where((b > 10) & (b <= 60))\n",
    "print(b[idx])"
   ]
  },
  {
   "cell_type": "markdown",
   "id": "handmade-maine",
   "metadata": {},
   "source": [
    "### Array algebra\n",
    "\n",
    "Algebraic operations are very easy in `numpy` and quite similar to raster calculator operations in ArcGIS and QGIS.\n",
    "\n",
    "Let's start by creating two new arrays, `a` and `b`. We'll make them different from each other so we see how algebraic operations work:"
   ]
  },
  {
   "cell_type": "code",
   "execution_count": null,
   "id": "assisted-still",
   "metadata": {},
   "outputs": [],
   "source": [
    "a = np.arange(9)\n",
    "b = np.arange(10,19)\n",
    "print(a, b, sep = \"\\n\\n\")"
   ]
  },
  {
   "cell_type": "code",
   "execution_count": null,
   "id": "veterinary-difference",
   "metadata": {},
   "outputs": [],
   "source": [
    "x = a + b\n",
    "print(x)"
   ]
  },
  {
   "cell_type": "markdown",
   "id": "peripheral-yukon",
   "metadata": {},
   "source": [
    "Let's take a minute and think about what just happened here. By typing `a + b`, `numpy` added each element of `a` to each corresponding element of `b`. In many other programming languages (including python if we didn't have `numpy` at our disposal), we would have to create a **for-loop** and carry out this operation on each element in sequence. Since these are 1-D arrays, we only need to loop over a single axis. We could start with a 1-D array of zeros with the same shape as `a`, and then change each element one by one. (We'll cover the `dtype` detail a bit later)."
   ]
  },
  {
   "cell_type": "code",
   "execution_count": null,
   "id": "cooperative-briefing",
   "metadata": {},
   "outputs": [],
   "source": [
    "x = np.zeros(a.shape, dtype = np.uint8)\n",
    "for i in range(9):\n",
    "    x[i] = a[i] + b[i]\n",
    "    \n",
    "print(x)"
   ]
  },
  {
   "cell_type": "markdown",
   "id": "boring-outline",
   "metadata": {},
   "source": [
    "That wasn't too bad, but this can get very complicated when we start working with larger arrays with more dimensions (axes). In addition, the original `numpy` method (`x = a + b`) is much faster, computationally speaking. The reason for that has to do with how `numpy` was written, but we won't go into that here.\n",
    "\n",
    "Let's try some other algebraic operations."
   ]
  },
  {
   "cell_type": "code",
   "execution_count": null,
   "id": "interior-wallpaper",
   "metadata": {},
   "outputs": [],
   "source": [
    "y = a * b\n",
    "print(y)"
   ]
  },
  {
   "cell_type": "code",
   "execution_count": null,
   "id": "australian-vienna",
   "metadata": {},
   "outputs": [],
   "source": [
    "z = b / a\n",
    "print(z)"
   ]
  },
  {
   "cell_type": "markdown",
   "id": "spread-notebook",
   "metadata": {},
   "source": [
    "**Q: What does it mean for the element at `[0,0]` to be `inf`? (Hint: look at the warning message)**"
   ]
  },
  {
   "cell_type": "markdown",
   "id": "literary-swimming",
   "metadata": {},
   "source": [
    "`numpy` has a simple boolean function for identifying these `inf` values:"
   ]
  },
  {
   "cell_type": "code",
   "execution_count": null,
   "id": "greek-sigma",
   "metadata": {},
   "outputs": [],
   "source": [
    "print(np.isinf(z))"
   ]
  },
  {
   "cell_type": "markdown",
   "id": "fabulous-machine",
   "metadata": {},
   "source": [
    "It works exactly the same as the other boolean operations we explored earlier, including with the `where()` function:"
   ]
  },
  {
   "cell_type": "code",
   "execution_count": null,
   "id": "approved-partnership",
   "metadata": {},
   "outputs": [],
   "source": [
    "idx = np.where(np.isinf(z))\n",
    "print(idx)"
   ]
  },
  {
   "cell_type": "code",
   "execution_count": null,
   "id": "according-fifth",
   "metadata": {},
   "outputs": [],
   "source": [
    "print(z[idx])"
   ]
  },
  {
   "cell_type": "markdown",
   "id": "spread-sustainability",
   "metadata": {},
   "source": [
    "Suppose we want to replace all `inf` values with 0's. Now that we have the index, this is easy to do:"
   ]
  },
  {
   "cell_type": "code",
   "execution_count": null,
   "id": "described-ready",
   "metadata": {},
   "outputs": [],
   "source": [
    "z[idx] = 0\n",
    "print(z)"
   ]
  },
  {
   "cell_type": "markdown",
   "id": "packed-witness",
   "metadata": {},
   "source": [
    "To carry out an exponential operation in python, use the `**` operator:"
   ]
  },
  {
   "cell_type": "code",
   "execution_count": null,
   "id": "wrapped-image",
   "metadata": {},
   "outputs": [],
   "source": [
    "a = np.arange(9).reshape((3,3))\n",
    "b = a ** 2\n",
    "print(b)"
   ]
  },
  {
   "cell_type": "markdown",
   "id": "answering-exhibition",
   "metadata": {},
   "source": [
    "`numpy` has a built-in square-root function:"
   ]
  },
  {
   "cell_type": "code",
   "execution_count": null,
   "id": "intensive-concord",
   "metadata": {},
   "outputs": [],
   "source": [
    "print(np.sqrt(b))"
   ]
  },
  {
   "cell_type": "markdown",
   "id": "innocent-cheat",
   "metadata": {},
   "source": [
    "Notice that `np.sqrt()` automatically recasts integer values to float. We'll talk about this in a moment."
   ]
  },
  {
   "cell_type": "code",
   "execution_count": null,
   "id": "southwest-headline",
   "metadata": {},
   "outputs": [],
   "source": [
    "a = np.arange(9).reshape((3,3))\n",
    "b = np.arange(9).reshape((3,3))\n",
    "x = a ** b\n",
    "print(x)"
   ]
  },
  {
   "cell_type": "markdown",
   "id": "adjusted-tuition",
   "metadata": {},
   "source": [
    "The above array, `x`, spans a very large range of values. It is often necessary to rescale data to make it possible to visualize or further analyze them (e.g., SAR backscatter is often rescaled to decibels using a base-10 logarithm).\n",
    "\n",
    "`numpy`'s `log()` function will take the *natural* logarithm of an array (that is, a logarithm with a base of $e$)."
   ]
  },
  {
   "cell_type": "code",
   "execution_count": null,
   "id": "manufactured-routine",
   "metadata": {},
   "outputs": [],
   "source": [
    "y = np.log(x)\n",
    "print(y)"
   ]
  },
  {
   "cell_type": "markdown",
   "id": "integrated-teddy",
   "metadata": {},
   "source": [
    "To get the base-10 logarithm, use:"
   ]
  },
  {
   "cell_type": "code",
   "execution_count": null,
   "id": "supposed-queens",
   "metadata": {},
   "outputs": [],
   "source": [
    "z = np.log10(x)\n",
    "print(z)"
   ]
  },
  {
   "cell_type": "markdown",
   "id": "latest-austria",
   "metadata": {},
   "source": [
    "Let's try out some of `numpy`'s trigonometric functions. To work with these, we'll start with a 1-D array of angles between 0 and 360 degrees:"
   ]
  },
  {
   "cell_type": "code",
   "execution_count": null,
   "id": "massive-distributor",
   "metadata": {},
   "outputs": [],
   "source": [
    "a = np.arange(360)\n",
    "print(a)"
   ]
  },
  {
   "cell_type": "markdown",
   "id": "retired-refund",
   "metadata": {},
   "source": [
    "Note that `numpy`'s trigonometric functions work in *radians*, not degrees. Recall that to convert an angle from degrees to radians:\n",
    "\n",
    "$$\n",
    "\\theta_{rad} = \\theta_{deg}\\,\\frac{2\\pi}{360}\n",
    "$$\n",
    "\n",
    "Conveniently, `numpy` comes with a $\\pi$ object that we can use here:"
   ]
  },
  {
   "cell_type": "code",
   "execution_count": null,
   "id": "impaired-excellence",
   "metadata": {},
   "outputs": [],
   "source": [
    "print(np.pi)"
   ]
  },
  {
   "cell_type": "markdown",
   "id": "compound-stations",
   "metadata": {},
   "source": [
    "Let's convert our original array of angles into radians, and call the new array `theta`. We'll then take the sine of the angles, and create a plot of $sin(\\theta)$ as a function of $\\theta$."
   ]
  },
  {
   "cell_type": "code",
   "execution_count": null,
   "id": "structural-reminder",
   "metadata": {},
   "outputs": [],
   "source": [
    "theta = a * 2 * np.pi / 360\n",
    "sintheta = np.sin(theta)\n",
    "\n",
    "plt.plot(theta, sintheta)\n",
    "plt.xlabel(r\"$\\theta$\", fontsize = 16)\n",
    "plt.ylabel(r\"$sin(\\theta)$\", fontsize = 16)"
   ]
  },
  {
   "cell_type": "markdown",
   "id": "liable-decade",
   "metadata": {},
   "source": [
    "### Array statistics\n",
    "\n",
    "Computing descriptive statistics from multi-dimensional arrays is quite easy and flexible in `numpy`. Let's start with a 3-D array with shape `(10,10,10)`:"
   ]
  },
  {
   "cell_type": "code",
   "execution_count": null,
   "id": "moved-cornwall",
   "metadata": {},
   "outputs": [],
   "source": [
    "a = np.arange(1000).reshape((10,10,10))\n",
    "print(a)"
   ]
  },
  {
   "cell_type": "code",
   "execution_count": null,
   "id": "cutting-status",
   "metadata": {},
   "outputs": [],
   "source": [
    "print(a.sum())"
   ]
  },
  {
   "cell_type": "code",
   "execution_count": null,
   "id": "professional-benefit",
   "metadata": {},
   "outputs": [],
   "source": [
    "print(a.max())"
   ]
  },
  {
   "cell_type": "code",
   "execution_count": null,
   "id": "heavy-sustainability",
   "metadata": {},
   "outputs": [],
   "source": [
    "print(a.mean())"
   ]
  },
  {
   "cell_type": "markdown",
   "id": "activated-laptop",
   "metadata": {},
   "source": [
    "Notice that the stats we computed above are derived from the *entire* array. In other words, `a.mean()` gives us the mean value of the entire array, regardless of the dimensionality.\n",
    "\n",
    "We can compute statistics along specific axes as well, which will come in very handy when working with image stacks later. For example, to take the mean along the first axis:"
   ]
  },
  {
   "cell_type": "code",
   "execution_count": null,
   "id": "worthy-female",
   "metadata": {},
   "outputs": [],
   "source": [
    "print(a.mean(axis = 0))"
   ]
  },
  {
   "cell_type": "markdown",
   "id": "universal-eagle",
   "metadata": {},
   "source": [
    "What does this actually mean? If you think of the 3-D array as a \"stack\" of 2-D arrays (e.g., images), the mean along axis 0 is effectively the mean of each position in the image stack. In terms of image analysis, this would be the mean value for each *pixel* in the image. Plotting the result might help us wrap our heads around this:"
   ]
  },
  {
   "cell_type": "code",
   "execution_count": null,
   "id": "conscious-perth",
   "metadata": {},
   "outputs": [],
   "source": [
    "plt.imshow(a.mean(axis = 0))\n",
    "plt.colorbar()"
   ]
  },
  {
   "cell_type": "markdown",
   "id": "electric-director",
   "metadata": {},
   "source": [
    "### Data types in `numpy`\n",
    "\n",
    "An important detail that is often overlooked by beginners is the *data type* of the array. Just like other numerical data in python (and other programming languages), values can be stored in memory and disk as integers or floats (and other specialized data types). The *bit-depth* of the data type is also important, as it determines the *precision* of the value, the maximum value that a variable can take on, and the amount of memory or disk space needed to store the value.\n",
    "\n",
    "For example, an 8-bit unsigned integer takes up 8 bits of memory, and can take on any value between 0 and 255, inclusively, for a total of 256 total possibilities. `numpy` has a `uint8` object for this data type:"
   ]
  },
  {
   "cell_type": "code",
   "execution_count": null,
   "id": "pacific-drama",
   "metadata": {},
   "outputs": [],
   "source": [
    "a = np.zeros((100,100), dtype = np.uint8)\n",
    "print(a.dtype)"
   ]
  },
  {
   "cell_type": "markdown",
   "id": "complete-princeton",
   "metadata": {},
   "source": [
    "For a 64-bit float:"
   ]
  },
  {
   "cell_type": "code",
   "execution_count": null,
   "id": "generous-librarian",
   "metadata": {},
   "outputs": [],
   "source": [
    "b = np.zeros((100,100), dtype = np.float64)\n",
    "print(b.dtype)"
   ]
  },
  {
   "cell_type": "markdown",
   "id": "isolated-crazy",
   "metadata": {},
   "source": [
    "Notice how python prints integers and floats differently:"
   ]
  },
  {
   "cell_type": "code",
   "execution_count": null,
   "id": "worthy-compact",
   "metadata": {},
   "outputs": [],
   "source": [
    "print(a)"
   ]
  },
  {
   "cell_type": "code",
   "execution_count": null,
   "id": "annoying-reach",
   "metadata": {},
   "outputs": [],
   "source": [
    "print(b)"
   ]
  },
  {
   "cell_type": "markdown",
   "id": "official-brook",
   "metadata": {},
   "source": [
    "We can *recast* arrays of a certain data type to a different data type using `astype()`:"
   ]
  },
  {
   "cell_type": "code",
   "execution_count": null,
   "id": "arabic-cardiff",
   "metadata": {},
   "outputs": [],
   "source": [
    "b = b.astype(np.uint8)\n",
    "print(b.dtype)"
   ]
  },
  {
   "cell_type": "markdown",
   "id": "integral-dressing",
   "metadata": {},
   "source": [
    "What data type does python/`numpy` assume if we don't specify it? That will depend on the specific numbers you throw at it:"
   ]
  },
  {
   "cell_type": "code",
   "execution_count": null,
   "id": "falling-porter",
   "metadata": {},
   "outputs": [],
   "source": [
    "a = np.arange(9)\n",
    "print(\"Assumed datatype: \", a.dtype)\n",
    "a = a.astype(np.uint8)\n",
    "print(\"New datatype: \", a.dtype)"
   ]
  },
  {
   "cell_type": "code",
   "execution_count": null,
   "id": "subject-count",
   "metadata": {},
   "outputs": [],
   "source": [
    "b = a / 2\n",
    "print(b)"
   ]
  },
  {
   "cell_type": "code",
   "execution_count": null,
   "id": "toxic-hunter",
   "metadata": {},
   "outputs": [],
   "source": [
    "print(b.dtype)"
   ]
  },
  {
   "cell_type": "markdown",
   "id": "ready-outreach",
   "metadata": {},
   "source": [
    "Notice that dividing `a` (which we recast to unsigned 8-bit integer) by 2 created a 64-bit float array. This is a major difference between python3 and python2. python2 will never change the datatype, requiring the user to specify this. Instead, it will *truncate* the decimals (0.5 becomes 0; 1.5 becomes 1; and so forth...) and leave the result in the original integer data type. \n",
    "\n",
    "Even though python3 is doing some of the thinking for you here, it is important to *always* be aware of the data type with which you're working. Losing track of this can cause problems down the line when analyzing geospatial data.\n",
    "\n",
    "`numpy` also allows for complex data types. Recall that complex numbers are the set of all numbers that include real numbers as well as $\\sqrt{-1}$ and all of its multiples. While you might be used to using the letter $i$ to represent $\\sqrt{-1}$, python uses `j` for this (which is a convention used in engineering).\n",
    "\n",
    "While not often used in geospatial analysis, complex data types are necessary for working with polarimetric SAR data in particular, since amplitude and phase are conveniently stored as complex numbers with a real and imaginary component. Therefore, a SAR image with amplitude and phase information can be stored as a single 2-D numpy array with a complex datatype."
   ]
  },
  {
   "cell_type": "code",
   "execution_count": null,
   "id": "occupied-rally",
   "metadata": {},
   "outputs": [],
   "source": [
    "a = np.zeros((3, 3), dtype = np.complex64)\n",
    "print(a)"
   ]
  },
  {
   "cell_type": "code",
   "execution_count": null,
   "id": "combined-homeless",
   "metadata": {},
   "outputs": [],
   "source": [
    "a[0,0] = 5 + 2j\n",
    "a[0,1] = 2 + 3j\n",
    "a[-1,-1] = 1 - 1j\n",
    "print(a)"
   ]
  },
  {
   "cell_type": "markdown",
   "id": "noble-agriculture",
   "metadata": {},
   "source": [
    "If we need to just see the real component of the complex numbers:"
   ]
  },
  {
   "cell_type": "code",
   "execution_count": null,
   "id": "difficult-million",
   "metadata": {},
   "outputs": [],
   "source": [
    "print(a.real)"
   ]
  },
  {
   "cell_type": "markdown",
   "id": "discrete-philosophy",
   "metadata": {},
   "source": [
    "...or the imaginary parts:"
   ]
  },
  {
   "cell_type": "code",
   "execution_count": null,
   "id": "described-wallace",
   "metadata": {},
   "outputs": [],
   "source": [
    "print(a.imag)"
   ]
  },
  {
   "cell_type": "markdown",
   "id": "patient-square",
   "metadata": {},
   "source": [
    "Algebraic operations and basic descriptive statistics are pretty much the same as with real number arrays. There are some specialized functions in `numpy` for complex arrays, but we won't go into them here."
   ]
  },
  {
   "cell_type": "code",
   "execution_count": null,
   "id": "likely-proxy",
   "metadata": {},
   "outputs": [],
   "source": [
    "print(\"max = \", a.max())\n",
    "print(\"min = \", a.min())"
   ]
  },
  {
   "cell_type": "code",
   "execution_count": null,
   "id": "waiting-welding",
   "metadata": {},
   "outputs": [],
   "source": [
    "print(a.sum())"
   ]
  },
  {
   "cell_type": "code",
   "execution_count": null,
   "id": "opposed-crawford",
   "metadata": {},
   "outputs": [],
   "source": [
    "print(a.sum(axis = 0))"
   ]
  },
  {
   "cell_type": "code",
   "execution_count": null,
   "id": "rough-scott",
   "metadata": {},
   "outputs": [],
   "source": [
    "print(a.sum(axis = 1))"
   ]
  }
 ],
 "metadata": {
  "kernelspec": {
   "display_name": "Python 3",
   "language": "python",
   "name": "python3"
  },
  "language_info": {
   "codemirror_mode": {
    "name": "ipython",
    "version": 3
   },
   "file_extension": ".py",
   "mimetype": "text/x-python",
   "name": "python",
   "nbconvert_exporter": "python",
   "pygments_lexer": "ipython3",
   "version": "3.9.1"
  }
 },
 "nbformat": 4,
 "nbformat_minor": 5
}
